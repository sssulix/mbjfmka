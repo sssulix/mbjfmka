{
 "cells": [
  {
   "cell_type": "code",
   "execution_count": 1,
   "metadata": {
    "collapsed": true,
    "pycharm": {
     "name": "#%%\n"
    }
   },
   "outputs": [
    {
     "name": "stdout",
     "output_type": "stream",
     "text": [
      "Best context: The Eiffel Tower is located in Paris, France.\n"
     ]
    },
    {
     "name": "stderr",
     "output_type": "stream",
     "text": [
      "[nltk_data] Downloading package punkt to\n",
      "[nltk_data]     C:\\Users\\devon\\AppData\\Roaming\\nltk_data...\n",
      "[nltk_data]   Package punkt is already up-to-date!\n"
     ]
    }
   ],
   "source": [
    "from rank_bm25 import BM25Okapi\n",
    "from nltk.tokenize import word_tokenize\n",
    "import nltk\n",
    "\n",
    "nltk.download('punkt')\n",
    "\n",
    "corpus = [\n",
    "    \"The Eiffel Tower is located in Paris, France.\",\n",
    "    \"The Great Wall of China is a historic wall in China.\",\n",
    "    \"Mount Everest is the highest mountain in the world.\"\n",
    "]\n",
    "\n",
    "tokenized_corpus = [word_tokenize(doc.lower()) for doc in corpus]\n",
    "bm25 = BM25Okapi(tokenized_corpus)\n",
    "\n",
    "query = \"Where is the Eiffel Tower?\"\n",
    "\n",
    "tokenized_query = word_tokenize(query.lower())\n",
    "\n",
    "scores = bm25.get_scores(tokenized_query)\n",
    "\n",
    "best_index = scores.argmax()\n",
    "print(\"Best context:\", corpus[best_index])\n"
   ]
  },
  {
   "cell_type": "code",
   "execution_count": 4,
   "outputs": [
    {
     "name": "stdout",
     "output_type": "stream",
     "text": [
      "Наиболее релевантный контекст:\n",
      "Эйфелева башня находится в Париже, во Франции.\n",
      "Сходство: 0.530\n"
     ]
    }
   ],
   "source": [
    "from sklearn.feature_extraction.text import TfidfVectorizer\n",
    "from sklearn.metrics.pairwise import cosine_similarity\n",
    "\n",
    "contexts = [\n",
    "    \"Эйфелева башня находится в Париже, во Франции.\",\n",
    "    \"Париж — столица Франции и важный туристический центр.\",\n",
    "    \"Казахстан — крупнейшее государство в Центральной Азии.\",\n",
    "    \"Алматы — крупнейший город Казахстана.\"\n",
    "]\n",
    "question = \"Где находится Эйфелева башня?\"\n",
    "\n",
    "documents = contexts + [question]\n",
    "vectorizer = TfidfVectorizer()\n",
    "tfidf_matrix = vectorizer.fit_transform(documents)\n",
    "\n",
    "question_vec = tfidf_matrix[-1]\n",
    "context_vecs = tfidf_matrix[:-1]\n",
    "similarities = cosine_similarity(question_vec, context_vecs).flatten()\n",
    "best_index = similarities.argmax()\n",
    "print(contexts[best_index])"
   ],
   "metadata": {
    "collapsed": false,
    "pycharm": {
     "name": "#%%\n"
    }
   }
  },
  {
   "cell_type": "code",
   "execution_count": 5,
   "outputs": [
    {
     "data": {
      "text/plain": "array([0.52964054, 0.        , 0.        , 0.        ])"
     },
     "execution_count": 5,
     "metadata": {},
     "output_type": "execute_result"
    }
   ],
   "source": [
    "import re\n",
    "def simple_tokenize(text):\n",
    "    return re.findall(r'\\b\\w+\\b', text.lower())"
   ],
   "metadata": {
    "collapsed": false,
    "pycharm": {
     "name": "#%%\n"
    }
   }
  },
  {
   "cell_type": "code",
   "execution_count": null,
   "outputs": [],
   "source": [],
   "metadata": {
    "collapsed": false,
    "pycharm": {
     "name": "#%%\n"
    }
   }
  }
 ],
 "metadata": {
  "kernelspec": {
   "display_name": "Python 3",
   "language": "python",
   "name": "python3"
  },
  "language_info": {
   "codemirror_mode": {
    "name": "ipython",
    "version": 2
   },
   "file_extension": ".py",
   "mimetype": "text/x-python",
   "name": "python",
   "nbconvert_exporter": "python",
   "pygments_lexer": "ipython2",
   "version": "2.7.6"
  }
 },
 "nbformat": 4,
 "nbformat_minor": 0
}