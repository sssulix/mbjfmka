{
 "cells": [
  {
   "cell_type": "code",
   "execution_count": 1,
   "metadata": {
    "collapsed": true,
    "pycharm": {
     "name": "#%%\n"
    }
   },
   "outputs": [
    {
     "data": {
      "text/plain": "'cuda'"
     },
     "execution_count": 1,
     "metadata": {},
     "output_type": "execute_result"
    }
   ],
   "source": [
    "import torch\n",
    "from torch import nn\n",
    "\n",
    "\n",
    "device = \"cuda\" if torch.cuda.is_available() else \"cpu\"\n",
    "device"
   ]
  },
  {
   "cell_type": "code",
   "execution_count": 2,
   "outputs": [],
   "source": [
    "from torchvision.models import resnet18\n",
    "\n",
    "\n",
    "class PlateClf(nn.Module):\n",
    "    def __init__(self):\n",
    "        super().__init__()\n",
    "        self.backbone = resnet18(pretrained=True)\n",
    "        for param in self.backbone.parameters():\n",
    "            param.requires_grad = False\n",
    "\n",
    "        num_features = self.backbone.fc.in_features\n",
    "        self.backbone.fc = nn.Sequential(\n",
    "            nn.Linear(num_features,128),\n",
    "            nn.ReLU(),\n",
    "            nn.Dropout(0.3),\n",
    "            nn.Linear(128,1)\n",
    "        )\n",
    "    def forward(self,x):\n",
    "        return self.backbone(x)\n",
    "\n"
   ],
   "metadata": {
    "collapsed": false,
    "pycharm": {
     "name": "#%%\n"
    }
   }
  },
  {
   "cell_type": "code",
   "execution_count": 3,
   "outputs": [
    {
     "name": "stderr",
     "output_type": "stream",
     "text": [
      "C:\\Workspace\\endsieg\\PyTorch\\venv\\Lib\\site-packages\\torchvision\\models\\_utils.py:208: UserWarning: The parameter 'pretrained' is deprecated since 0.13 and may be removed in the future, please use 'weights' instead.\n",
      "  warnings.warn(\n",
      "C:\\Workspace\\endsieg\\PyTorch\\venv\\Lib\\site-packages\\torchvision\\models\\_utils.py:223: UserWarning: Arguments other than a weight enum or `None` for 'weights' are deprecated since 0.13 and may be removed in the future. The current behavior is equivalent to passing `weights=ResNet18_Weights.IMAGENET1K_V1`. You can also use `weights=ResNet18_Weights.DEFAULT` to get the most up-to-date weights.\n",
      "  warnings.warn(msg)\n"
     ]
    }
   ],
   "source": [
    "torch.manual_seed(42)\n",
    "model = PlateClf()\n",
    "loss_fn = nn.BCEWithLogitsLoss()\n",
    "optimizer = torch.optim.Adam(model.parameters(), lr=0.005)"
   ],
   "metadata": {
    "collapsed": false,
    "pycharm": {
     "name": "#%%\n"
    }
   }
  },
  {
   "cell_type": "code",
   "execution_count": 4,
   "outputs": [],
   "source": [
    "from torchvision import datasets\n",
    "from torchvision import transforms\n",
    "\n",
    "data_transform = transforms.Compose([\n",
    "    # Resize the images to 64x64\n",
    "    transforms.Resize(size=(224, 224)),\n",
    "    # Flip the images randomly on the horizontal\n",
    "    transforms.RandomHorizontalFlip(p=0.5), # p = probability of flip, 0.5 = 50% chance\n",
    "    # Turn the image into a torch.Tensor\n",
    "    transforms.RandomRotation(10),  # лёгкое вращение\n",
    "    transforms.ColorJitter(),       # яркость, контраст\n",
    "    transforms.RandomResizedCrop(224, scale=(0.8, 1.0)),\n",
    "    transforms.ToTensor() # this also converts all pixel values from 0 to 255 to be between 0.0 and 1.0\n",
    "])\n",
    "\n",
    "train_data = datasets.ImageFolder(root='./data/plates/train', transform=data_transform,target_transform=None)\n",
    "\n",
    "from torch.utils.data import DataLoader\n",
    "\n",
    "train_loader = DataLoader(dataset=train_data, batch_size=4, num_workers=6, shuffle=True)\n"
   ],
   "metadata": {
    "collapsed": false,
    "pycharm": {
     "name": "#%%\n"
    }
   }
  },
  {
   "cell_type": "code",
   "execution_count": 5,
   "outputs": [
    {
     "name": "stdout",
     "output_type": "stream",
     "text": [
      "Epoch 1:\n",
      "Train Loss: 0.7013\n",
      "Epoch 2:\n",
      "Train Loss: 0.6496\n",
      "Epoch 3:\n",
      "Train Loss: 0.6514\n",
      "Epoch 4:\n",
      "Train Loss: 0.6503\n",
      "Epoch 5:\n",
      "Train Loss: 0.6222\n",
      "Epoch 6:\n",
      "Train Loss: 0.6281\n",
      "Epoch 7:\n",
      "Train Loss: 0.6494\n",
      "Epoch 8:\n",
      "Train Loss: 0.5987\n",
      "Epoch 9:\n",
      "Train Loss: 0.5601\n",
      "Epoch 10:\n",
      "Train Loss: 0.5335\n",
      "Epoch 11:\n",
      "Train Loss: 0.5370\n",
      "Epoch 12:\n",
      "Train Loss: 0.5034\n",
      "Epoch 13:\n",
      "Train Loss: 0.5656\n",
      "Epoch 14:\n",
      "Train Loss: 0.5365\n",
      "Epoch 15:\n",
      "Train Loss: 0.5290\n",
      "Epoch 16:\n",
      "Train Loss: 0.5517\n",
      "Epoch 17:\n",
      "Train Loss: 0.4969\n",
      "Epoch 18:\n",
      "Train Loss: 0.4639\n",
      "Epoch 19:\n",
      "Train Loss: 0.4806\n",
      "Epoch 20:\n",
      "Train Loss: 0.5088\n",
      "Epoch 21:\n",
      "Train Loss: 0.4035\n",
      "Epoch 22:\n",
      "Train Loss: 0.4553\n",
      "Epoch 23:\n",
      "Train Loss: 0.4274\n",
      "Epoch 24:\n",
      "Train Loss: 0.4525\n",
      "Epoch 25:\n",
      "Train Loss: 0.4875\n",
      "Epoch 26:\n",
      "Train Loss: 0.3567\n",
      "Epoch 27:\n",
      "Train Loss: 0.3797\n"
     ]
    }
   ],
   "source": [
    "n_epochs = 30 # do more, e.g. 30 since I am using data augmentation now\n",
    "model.to(device)\n",
    "\n",
    "for epoch in range(n_epochs):\n",
    "    train_loss = 0\n",
    "    for batch, (X, y) in enumerate(train_loader):\n",
    "        model.train()\n",
    "        X, y = X.to(device), y.float().unsqueeze(dim=1).to(device)\n",
    "        y_pred = model(X)\n",
    "        loss = loss_fn(y_pred, y)\n",
    "        train_loss += loss.item()\n",
    "        optimizer.zero_grad()\n",
    "        loss.backward()\n",
    "        optimizer.step()\n",
    "    train_loss = train_loss/len(train_loader)\n",
    "\n",
    "    print(f\"Epoch {epoch+1}:\")\n",
    "    print(f\"Train Loss: {train_loss:.4f}\")\n"
   ],
   "metadata": {
    "collapsed": false,
    "pycharm": {
     "name": "#%%\n"
    }
   }
  },
  {
   "cell_type": "code",
   "execution_count": 6,
   "outputs": [],
   "source": [
    "import os\n",
    "from PIL import Image\n",
    "\n",
    "test_transform = transforms.Compose([\n",
    "    # Resize the images to 64x64\n",
    "    transforms.Resize(size=(224, 224)),\n",
    "    transforms.ToTensor() # this also converts all pixel values from 0 to 255 to be between 0.0 and 1.0\n",
    "])\n",
    "ids = []\n",
    "labels = []\n",
    "for filename in os.listdir('./data/plates/test'):\n",
    "    if filename.lower().endswith(('.png','.jpg','.jpeg')):\n",
    "        img_path = os.path.join('./data/plates/test',filename)\n",
    "        image = Image.open(img_path).convert('RGB')\n",
    "        input_tensor = test_transform(image).unsqueeze(0).to(device)\n",
    "\n",
    "        model.eval()\n",
    "        with torch.inference_mode():\n",
    "            out = model(input_tensor)\n",
    "            out = torch.sigmoid(out)\n",
    "            pred = (out>0.5).int()\n",
    "        ids.append(filename[:4])\n",
    "        label = train_data.classes[pred]\n",
    "        labels.append(label)"
   ],
   "metadata": {
    "collapsed": false,
    "pycharm": {
     "name": "#%%\n"
    }
   }
  },
  {
   "cell_type": "code",
   "execution_count": 7,
   "outputs": [
    {
     "data": {
      "text/plain": "       label    id\n0      dirty  0000\n1      dirty  0001\n2    cleaned  0002\n3      dirty  0003\n4      dirty  0004\n..       ...   ...\n739    dirty  0739\n740    dirty  0740\n741  cleaned  0741\n742  cleaned  0742\n743  cleaned  0743\n\n[744 rows x 2 columns]",
      "text/html": "<div>\n<style scoped>\n    .dataframe tbody tr th:only-of-type {\n        vertical-align: middle;\n    }\n\n    .dataframe tbody tr th {\n        vertical-align: top;\n    }\n\n    .dataframe thead th {\n        text-align: right;\n    }\n</style>\n<table border=\"1\" class=\"dataframe\">\n  <thead>\n    <tr style=\"text-align: right;\">\n      <th></th>\n      <th>label</th>\n      <th>id</th>\n    </tr>\n  </thead>\n  <tbody>\n    <tr>\n      <th>0</th>\n      <td>dirty</td>\n      <td>0000</td>\n    </tr>\n    <tr>\n      <th>1</th>\n      <td>dirty</td>\n      <td>0001</td>\n    </tr>\n    <tr>\n      <th>2</th>\n      <td>cleaned</td>\n      <td>0002</td>\n    </tr>\n    <tr>\n      <th>3</th>\n      <td>dirty</td>\n      <td>0003</td>\n    </tr>\n    <tr>\n      <th>4</th>\n      <td>dirty</td>\n      <td>0004</td>\n    </tr>\n    <tr>\n      <th>...</th>\n      <td>...</td>\n      <td>...</td>\n    </tr>\n    <tr>\n      <th>739</th>\n      <td>dirty</td>\n      <td>0739</td>\n    </tr>\n    <tr>\n      <th>740</th>\n      <td>dirty</td>\n      <td>0740</td>\n    </tr>\n    <tr>\n      <th>741</th>\n      <td>cleaned</td>\n      <td>0741</td>\n    </tr>\n    <tr>\n      <th>742</th>\n      <td>cleaned</td>\n      <td>0742</td>\n    </tr>\n    <tr>\n      <th>743</th>\n      <td>cleaned</td>\n      <td>0743</td>\n    </tr>\n  </tbody>\n</table>\n<p>744 rows × 2 columns</p>\n</div>"
     },
     "execution_count": 7,
     "metadata": {},
     "output_type": "execute_result"
    }
   ],
   "source": [
    "import pandas as pd\n",
    "\n",
    "df = pd.DataFrame()\n",
    "df['label'] = labels\n",
    "df['id'] = ids\n",
    "df"
   ],
   "metadata": {
    "collapsed": false,
    "pycharm": {
     "name": "#%%\n"
    }
   }
  },
  {
   "cell_type": "code",
   "execution_count": 8,
   "outputs": [],
   "source": [
    "df.to_csv('plates_submission.csv',index=False)\n"
   ],
   "metadata": {
    "collapsed": false,
    "pycharm": {
     "name": "#%%\n"
    }
   }
  }
 ],
 "metadata": {
  "kernelspec": {
   "display_name": "Python 3",
   "language": "python",
   "name": "python3"
  },
  "language_info": {
   "codemirror_mode": {
    "name": "ipython",
    "version": 2
   },
   "file_extension": ".py",
   "mimetype": "text/x-python",
   "name": "python",
   "nbconvert_exporter": "python",
   "pygments_lexer": "ipython2",
   "version": "2.7.6"
  }
 },
 "nbformat": 4,
 "nbformat_minor": 0
}