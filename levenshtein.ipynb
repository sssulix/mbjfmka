{
 "cells": [
  {
   "cell_type": "code",
   "execution_count": null,
   "metadata": {
    "collapsed": true,
    "pycharm": {
     "name": "#%%\n"
    }
   },
   "outputs": [],
   "source": [
    "import difflib\n",
    "\n",
    "# Пример словаря (в реальности — подключи из nltk.corpus.words или свой список)\n",
    "dictionary = [\"receive\", \"believe\", \"deceive\", \"achieve\", \"perceive\", \"conceive\", \"relieve\", \"reprieve\"]\n",
    "\n",
    "def correct_word(wrong_word, vocab):\n",
    "    # Найдёт 1 ближайшее по похожести\n",
    "    matches = difflib.get_close_matches(wrong_word, vocab, n=1, cutoff=0.7)\n",
    "    return matches[0] if matches else wrong_word\n",
    "\n",
    "# Пример:\n",
    "print(correct_word(\"recieve\", dictionary))  # → receive\n",
    "print(correct_word(\"deceeve\", dictionary))  # → deceive"
   ]
  }
 ],
 "metadata": {
  "kernelspec": {
   "display_name": "Python 3",
   "language": "python",
   "name": "python3"
  },
  "language_info": {
   "codemirror_mode": {
    "name": "ipython",
    "version": 2
   },
   "file_extension": ".py",
   "mimetype": "text/x-python",
   "name": "python",
   "nbconvert_exporter": "python",
   "pygments_lexer": "ipython2",
   "version": "2.7.6"
  }
 },
 "nbformat": 4,
 "nbformat_minor": 0
}