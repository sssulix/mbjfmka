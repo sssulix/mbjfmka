{
 "cells": [
  {
   "cell_type": "code",
   "execution_count": null,
   "outputs": [],
   "source": [
    "# 📦 Установка (если не предустановлено в Kaggle, но обычно есть)\n",
    "# pip install scikit-image\n",
    "\n",
    "import numpy as np\n",
    "import pandas as pd\n",
    "import matplotlib.pyplot as plt\n",
    "\n",
    "from skimage import io, color, filters, feature, exposure, util, transform\n",
    "from skimage.measure import label, regionprops\n",
    "from skimage.feature import hog\n",
    "from skimage.color import rgb2gray\n",
    "\n",
    "# 📥 Загрузка изображения\n",
    "img = io.imread('your_image_path.jpg')  # RGB изображение\n",
    "gray = rgb2gray(img)                    # grayscale\n",
    "\n",
    "# 📊 Визуализация\n",
    "plt.imshow(gray, cmap='gray')\n",
    "plt.title('Grayscale')\n",
    "plt.axis('off')\n",
    "plt.show()\n",
    "\n",
    "# 📌 1. Применение фильтра (edge detection)\n",
    "edges = filters.sobel(gray)\n",
    "plt.imshow(edges, cmap='gray')\n",
    "plt.title('Sobel edges')\n",
    "plt.axis('off')\n",
    "plt.show()\n",
    "\n",
    "# 📌 2. HOG фичи (для классификации / PCA)\n",
    "hog_feats, hog_img = hog(gray, pixels_per_cell=(8, 8), cells_per_block=(2, 2),\n",
    "                         visualize=True, feature_vector=True)\n",
    "plt.imshow(hog_img, cmap='gray')\n",
    "plt.title('HOG visualization')\n",
    "plt.axis('off')\n",
    "plt.show()\n",
    "\n",
    "# 📌 3. Threshold + бинаризация\n",
    "from skimage.filters import threshold_otsu\n",
    "thresh = threshold_otsu(gray)\n",
    "binary = gray > thresh\n",
    "plt.imshow(binary, cmap='gray')\n",
    "plt.title('Binarized image (Otsu)')\n",
    "plt.axis('off')\n",
    "plt.show()\n",
    "\n",
    "# 📌 4. Resize\n",
    "resized = transform.resize(gray, (64, 64))\n",
    "print(resized.shape)\n",
    "\n",
    "# 📌 5. Feature extraction (mean, std, etc.)\n",
    "mean = np.mean(gray)\n",
    "std = np.std(gray)\n",
    "skewness = pd.Series(gray.flatten()).skew()\n",
    "print(\"Mean:\", mean, \"| Std:\", std, \"| Skew:\", skewness)\n",
    "\n",
    "# 📌 6. Для классификации:\n",
    "# Сделать feature vector из hog, mean, std и использовать в sklearn\n",
    "\n",
    "features = np.concatenate([[mean, std, skewness], hog_feats])\n"
   ],
   "metadata": {
    "collapsed": false,
    "pycharm": {
     "name": "#%%\n"
    }
   }
  },
  {
   "cell_type": "code",
   "execution_count": null,
   "outputs": [],
   "source": [
    "from sklearn.decomposition import PCA\n",
    "from sklearn.preprocessing import StandardScaler\n",
    "\n",
    "# Пример: X — это твой массив признаков (numpy array или pandas DataFrame)\n",
    "\n",
    "scaler = StandardScaler()\n",
    "X_scaled = scaler.fit_transform(X)  # PCA любит стандартизованные данные\n",
    "\n",
    "pca = PCA(n_components=50)  # можно указать число компонент\n",
    "X_pca = pca.fit_transform(X_scaled)\n",
    "\n",
    "print(\"Было:\", X.shape)\n",
    "print(\"Стало:\", X_pca.shape)\n"
   ],
   "metadata": {
    "collapsed": false,
    "pycharm": {
     "name": "#%%\n"
    }
   }
  },
  {
   "cell_type": "code",
   "execution_count": null,
   "outputs": [],
   "source": [
    "from skimage.io import imread_collection\n",
    "from skimage.color import rgb2gray\n",
    "from skimage.feature import hog\n",
    "from skimage.transform import resize\n",
    "\n",
    "from sklearn.linear_model import LogisticRegression\n",
    "from sklearn.model_selection import train_test_split\n",
    "from sklearn.metrics import classification_report, f1_score\n",
    "\n",
    "import numpy as np\n",
    "import os\n",
    "\n",
    "# 📁 Загрузи изображения (пример: 2 класса по папкам 'class0' и 'class1')\n",
    "def load_images_from_folder(folder, label, size=(64, 64)):\n",
    "    X, y = [], []\n",
    "    for filename in os.listdir(folder):\n",
    "        img = imread_collection(os.path.join(folder, filename))[0]\n",
    "        img = rgb2gray(resize(img, size))\n",
    "        features = hog(img, pixels_per_cell=(8, 8), cells_per_block=(2, 2), feature_vector=True)\n",
    "        X.append(features)\n",
    "        y.append(label)\n",
    "    return X, y\n",
    "\n",
    "# 🎯 Загрузка данных\n",
    "X0, y0 = load_images_from_folder('data/class0', 0)\n",
    "X1, y1 = load_images_from_folder('data/class1', 1)\n",
    "\n",
    "X = np.array(X0 + X1)\n",
    "y = np.array(y0 + y1)\n",
    "\n",
    "# 🔁 Train/Val split\n",
    "X_train, X_val, y_train, y_val = train_test_split(X, y, stratify=y, test_size=0.2, random_state=42)\n",
    "\n",
    "# 🧠 Классификация\n",
    "clf = LogisticRegression(max_iter=1000)\n",
    "clf.fit(X_train, y_train)\n",
    "\n",
    "# 📊 Оценка\n",
    "y_pred = clf.predict(X_val)\n",
    "print(classification_report(y_val, y_pred))\n",
    "print(\"Macro F1:\", f1_score(y_val, y_pred, average='macro'))\n"
   ],
   "metadata": {
    "collapsed": false,
    "pycharm": {
     "name": "#%%\n"
    }
   }
  }
 ],
 "metadata": {
  "kernelspec": {
   "display_name": "Python 3",
   "language": "python",
   "name": "python3"
  },
  "language_info": {
   "codemirror_mode": {
    "name": "ipython",
    "version": 2
   },
   "file_extension": ".py",
   "mimetype": "text/x-python",
   "name": "python",
   "nbconvert_exporter": "python",
   "pygments_lexer": "ipython2",
   "version": "2.7.6"
  }
 },
 "nbformat": 4,
 "nbformat_minor": 0
}