{
 "cells": [
  {
   "cell_type": "code",
   "execution_count": null,
   "outputs": [],
   "source": [
    "# 1) Установка (bash-ячейка)\n",
    "!pip install -q ultralytics opencv-python-headless\n"
   ],
   "metadata": {
    "collapsed": false,
    "pycharm": {
     "name": "#%%\n"
    }
   }
  },
  {
   "cell_type": "markdown",
   "source": [
    "project/\n",
    "├── dataset/\n",
    "│   ├── images/\n",
    "│   │   ├── train/\n",
    "│   │   │   ├── img1.jpg\n",
    "│   │   │   └── ...\n",
    "│   │   ├── val/\n",
    "│   │   │   ├── img2.jpg\n",
    "│   │   │   └── ...\n",
    "│   └── labels/\n",
    "│       ├── train/\n",
    "│       │   ├── img1.txt\n",
    "│       │   └── ...\n",
    "│       ├── val/\n",
    "│       │   ├── img2.txt\n",
    "│       │   └── ...\n",
    "├── data.yaml\n"
   ],
   "metadata": {
    "collapsed": false,
    "pycharm": {
     "name": "#%% md\n"
    }
   }
  },
  {
   "cell_type": "markdown",
   "source": [
    "class x_center y_center width height\n",
    "(annotation)\n",
    "0 0.5 0.5 0.2 0.3\n",
    "1 0.7 0.8 0.1 0.1\n",
    "(normalized data)"
   ],
   "metadata": {
    "collapsed": false,
    "pycharm": {
     "name": "#%% md\n"
    }
   }
  },
  {
   "cell_type": "code",
   "execution_count": null,
   "outputs": [],
   "source": [
    "# 2) Импорты и проверка GPU\n",
    "import os\n",
    "from ultralytics import YOLO\n",
    "import pandas as pd\n",
    "import cv2\n",
    "import glob\n",
    "\n",
    "print(\"CUDA:\", YOLO._get_device())  # проверка доступности GPU\n"
   ],
   "metadata": {
    "collapsed": false,
    "pycharm": {
     "name": "#%%\n"
    }
   }
  },
  {
   "cell_type": "code",
   "execution_count": null,
   "outputs": [],
   "source": [
    "# 3) Подготовка data.yaml (раз в ноутбуке)\n",
    "# Предположим, что данные в /kaggle/input/my_dataset\n",
    "data_yaml = \"\"\"\n",
    "path: /kaggle/working/data      # корневой каталог (для копирования/размещения)\n",
    "train: images/train\n",
    "val:   images/val\n",
    "nc:  3                           # число классов\n",
    "names: ['class1','class2','class3']\n",
    "\"\"\"\n",
    "with open('data.yaml','w') as f:\n",
    "    f.write(data_yaml)\n",
    "print(open('data.yaml').read())\n"
   ],
   "metadata": {
    "collapsed": false,
    "pycharm": {
     "name": "#%%\n"
    }
   }
  },
  {
   "cell_type": "code",
   "execution_count": null,
   "outputs": [],
   "source": [
    "# 4) (Опционально) Скопировать данные во временный рабочий каталог\n",
    "!mkdir -p data/images/train data/images/val\n",
    "!cp -r /kaggle/input/my_dataset/train/images/* data/images/train/\n",
    "!cp -r /kaggle/input/my_dataset/valid/images/* data/images/val/\n",
    "!cp -r /kaggle/input/my_dataset/train/labels/* data/labels/train/\n",
    "!cp -r /kaggle/input/my_dataset/valid/labels/* data/labels/val/\n"
   ],
   "metadata": {
    "collapsed": false,
    "pycharm": {
     "name": "#%%\n"
    }
   }
  },
  {
   "cell_type": "code",
   "execution_count": null,
   "outputs": [],
   "source": [
    "# 5) Обучение\n",
    "model = YOLO('yolov8n.pt')  # или 'yolov8s.pt', 'yolov8m.pt' и т.д.\n",
    "results = model.train(\n",
    "    data='data.yaml',\n",
    "    epochs=30,\n",
    "    imgsz=640,\n",
    "    batch=16,\n",
    "    lr0=1e-3,\n",
    "    project='yolo8_run',   # папка с логами и весами\n",
    "    name='exp1',\n",
    "    patience=5\n",
    ")\n",
    "print(\"Best model saved to:\", results.path / 'weights' / 'best.pt')\n"
   ],
   "metadata": {
    "collapsed": false,
    "pycharm": {
     "name": "#%%\n"
    }
   }
  },
  {
   "cell_type": "code",
   "execution_count": null,
   "outputs": [],
   "source": [
    "# 6) Инференс + сбор сабмита\n",
    "best = 'yolo8_run/exp1/weights/best.pt'\n",
    "model = YOLO(best)\n",
    "\n",
    "records = []\n",
    "for img_path in glob.glob('/kaggle/input/my_dataset/test/images/*.jpg'):\n",
    "    res = model(img_path, conf=0.25, iou=0.5)[0]\n",
    "    for box in res.boxes:\n",
    "        x1, y1, x2, y2 = box.xyxy[0].tolist()\n",
    "        conf = float(box.conf)\n",
    "        cls  = int(box.cls)\n",
    "        records.append([os.path.basename(img_path), cls, conf, x1, y1, x2, y2])\n",
    "\n",
    "sub = pd.DataFrame(records, columns=[\n",
    "    'image','class','confidence','x1','y1','x2','y2'])\n",
    "sub.to_csv('submission.csv', index=False)\n",
    "print(\"Submission saved:\", sub.shape)\n"
   ],
   "metadata": {
    "collapsed": false,
    "pycharm": {
     "name": "#%%\n"
    }
   }
  },
  {
   "cell_type": "markdown",
   "source": [
    "[x1, y1, x2, y2, confidence, class_id]\n",
    "output"
   ],
   "metadata": {
    "collapsed": false,
    "pycharm": {
     "name": "#%% md\n"
    }
   }
  }
 ],
 "metadata": {
  "kernelspec": {
   "display_name": "Python 3",
   "language": "python",
   "name": "python3"
  },
  "language_info": {
   "codemirror_mode": {
    "name": "ipython",
    "version": 2
   },
   "file_extension": ".py",
   "mimetype": "text/x-python",
   "name": "python",
   "nbconvert_exporter": "python",
   "pygments_lexer": "ipython2",
   "version": "2.7.6"
  }
 },
 "nbformat": 4,
 "nbformat_minor": 0
}