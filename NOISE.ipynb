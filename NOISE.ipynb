{
 "cells": [
  {
   "cell_type": "markdown",
   "source": [
    "| Что удаляем           | Код                                   |\n",
    "| --------------------- | ------------------------------------- |\n",
    "| URL                   | re.sub(r'https?://\\S+', '', text)     |\n",
    "| Email                 | re.sub(r'\\S+@\\S+', '', text)          |\n",
    "| HTML-теги             | re.sub(r'<.\\*?>', '', text)           |\n",
    "| Эмодзи                | re.sub(r'\\[^\\w\\s,!?;:.()]', '', text) |\n",
    "| Повторяющиеся пробелы | re.sub(r'\\s+', ' ', text).strip()     |\n",
    "| Ненужные символы      | re.sub(r'\\[^\\x00-\\x7F]+', '', text)   |\n"
   ],
   "metadata": {
    "collapsed": false,
    "pycharm": {
     "name": "#%% md\n"
    }
   }
  },
  {
   "cell_type": "markdown",
   "source": [
    "| Что делать                | Пример                          |\n",
    "| ------------------------- | ------------------------------- |\n",
    "| .lower()                  | 'Hello' → 'hello'               |\n",
    "| strip()                   | убирает пробелы по краям        |\n",
    "| удаление пунктуации       | re.sub(r'\\[^\\w\\s]', '', text)   |\n",
    "| замена цифр на спец.токен | re.sub(r'\\d+', ' <NUM> ', text) |\n"
   ],
   "metadata": {
    "collapsed": false,
    "pycharm": {
     "name": "#%% md\n"
    }
   }
  },
  {
   "cell_type": "code",
   "execution_count": null,
   "outputs": [],
   "source": [
    "from sklearn.feature_extraction.text import ENGLISH_STOP_WORDS\n",
    "text = 'karim parim'\n",
    "words = text.split()\n",
    "filtered = ' '.join([w for w in words if w.lower() not in ENGLISH_STOP_WORDS])\n"
   ],
   "metadata": {
    "collapsed": false,
    "pycharm": {
     "name": "#%%\n"
    }
   }
  },
  {
   "cell_type": "code",
   "execution_count": null,
   "outputs": [],
   "source": [
    "import re\n",
    "\n",
    "def preprocess_text(text):\n",
    "    text = str(text).lower()\n",
    "    text = re.sub(r'https?://\\S+', '', text)  # remove urls\n",
    "    text = re.sub(r'<.*?>', '', text)         # remove html\n",
    "    text = re.sub(r'[^a-z0-9\\s]', '', text)   # remove punct\n",
    "    text = re.sub(r'\\d+', ' <NUM> ', text)    # numbers → token\n",
    "    text = re.sub(r'\\s+', ' ', text).strip()  # spaces\n",
    "    return text\n"
   ],
   "metadata": {
    "collapsed": false,
    "pycharm": {
     "name": "#%%\n"
    }
   }
  },
  {
   "cell_type": "code",
   "execution_count": null,
   "outputs": [],
   "source": [
    "import torchvision.transforms as T\n",
    "\n",
    "train_transforms = T.Compose([\n",
    "    T.Resize((256, 256)),\n",
    "    T.RandomHorizontalFlip(),\n",
    "    T.RandomRotation(10),\n",
    "    T.ColorJitter(brightness=0.2, contrast=0.2),\n",
    "    T.ToTensor(),\n",
    "    T.Normalize([0.485, 0.456, 0.406],\n",
    "                [0.229, 0.224, 0.225])\n",
    "])\n",
    "\n",
    "\n",
    "train2_transforms = T.Compose([\n",
    "    T.Resize((256, 256)),  # или RandomResizedCrop для увеличения разнообразия\n",
    "    T.RandomHorizontalFlip(p=0.5),\n",
    "    T.RandomRotation(degrees=10),\n",
    "    T.ColorJitter(brightness=0.2, contrast=0.2, saturation=0.2, hue=0.05),\n",
    "    T.RandomPerspective(distortion_scale=0.2, p=0.5),  # имитация 3D\n",
    "    T.ToTensor(),\n",
    "    T.Normalize(mean=[0.485, 0.456, 0.406],\n",
    "                std=[0.229, 0.224, 0.225])\n",
    "])\n",
    "\n"
   ],
   "metadata": {
    "collapsed": false,
    "pycharm": {
     "name": "#%%\n"
    }
   }
  },
  {
   "cell_type": "markdown",
   "source": [
    "| Трюк                            | Что делает                                 |\n",
    "| ------------------------------- | ------------------------------------------ |\n",
    "| Label encoding                  | превращает категорию в число               |\n",
    "| One-hot encoding                | если мало уникальных значений              |\n",
    "| Frequency / Count encoding      | полезно для LightGBM / CatBoost            |\n",
    "| Mean encoding (target encoding) | заменяет категорию на среднее таргета      |\n",
    "| Interaction features            | `feature1 * feature2`, `f1/f2` и т.д.      |\n",
    "| Date features                   | `month`, `dayofweek`, `is_weekend`, `hour` |\n"
   ],
   "metadata": {
    "collapsed": false,
    "pycharm": {
     "name": "#%% md\n"
    }
   }
  },
  {
   "cell_type": "markdown",
   "source": [
    "| Что делать                           | Почему важно                                  |\n",
    "| ------------------------------------ | --------------------------------------------- |\n",
    "| Замена на медиану / среднее          | особенно для чисел                            |\n",
    "| Заполнение “None” или “missing”      | для категориальных                            |\n",
    "| Отдельный бинарный признак `is_null` | помогает моделям понимать, что было пропущено |\n"
   ],
   "metadata": {
    "collapsed": false,
    "pycharm": {
     "name": "#%% md\n"
    }
   }
  },
  {
   "cell_type": "markdown",
   "source": [
    "| Метод     | Как                                                 |\n",
    "| --------- | --------------------------------------------------- |\n",
    "| z-score   | `abs((x - mean)/std) > 3` → потенциально выброс     |\n",
    "| IQR       | `x < Q1 - 1.5*IQR` или `x > Q3 + 1.5*IQR`           |\n",
    "| Визуально | boxplot / scatter plot → удаляй вручную, если нужно |\n"
   ],
   "metadata": {
    "collapsed": false,
    "pycharm": {
     "name": "#%% md\n"
    }
   }
  },
  {
   "cell_type": "markdown",
   "source": [
    "📌 Regression (регрессия)\n",
    "\"regression\" или \"regression_l2\" — MSE (L2 loss)\n",
    "\n",
    "\"regression_l1\" — MAE (L1 loss)\n",
    "\n",
    "\"huber\" — Huber loss\n",
    "\n",
    "\"fair\" — Fair loss\n",
    "\n",
    "\"poisson\" — Poisson regression (для счетных данных)\n",
    "\n",
    "\"quantile\" — Quantile regression (например, для предсказания медианы)\n",
    "\n",
    "\"mape\" — Mean Absolute Percentage Error\n",
    "\n",
    "\"gamma\" — Gamma regression\n",
    "\n",
    "\"tweedie\" — Tweedie distribution regression\n",
    "\n",
    "📌 Binary Classification\n",
    "\"binary\" — логистическая регрессия (бинарная классификация)\n",
    "\n",
    "📌 Multiclass Classification\n",
    "\"multiclass\" — мультиклассовая классификация\n",
    "\n",
    "\"multiclassova\" — One-vs-All (OvA) стратегия для мультикласса\n",
    "\n",
    "📌 Ranking\n",
    "\"lambdarank\" — LambdaRank (с NDCG)\n",
    "\n",
    "\"rank_xendcg\" — XENDCG (более стабильный аналог LambdaRank)\n",
    "\n",
    "\"rank_gbdt\" — GBDT Rank (обычный boosting для ранжирования)\n",
    "\n",
    "📌 Custom\n",
    "\"none\" — без встроенной функции ошибки (нужно передать feval)\n",
    "\n"
   ],
   "metadata": {
    "collapsed": false,
    "pycharm": {
     "name": "#%% md\n"
    }
   }
  },
  {
   "cell_type": "code",
   "execution_count": null,
   "outputs": [],
   "source": [
    "import numpy as np\n",
    "\n",
    "def remove_outliers_zscore(df, column, threshold=3.0):\n",
    "    mean = df[column].mean()\n",
    "    std = df[column].std()\n",
    "    z_scores = (df[column] - mean) / std\n",
    "    return df[np.abs(z_scores) < threshold]\n"
   ],
   "metadata": {
    "collapsed": false,
    "pycharm": {
     "name": "#%%\n"
    }
   }
  },
  {
   "cell_type": "code",
   "execution_count": null,
   "outputs": [],
   "source": [
    "def remove_outliers_iqr(df, column):\n",
    "    Q1 = df[column].quantile(0.25)\n",
    "    Q3 = df[column].quantile(0.75)\n",
    "    IQR = Q3 - Q1\n",
    "    lower = Q1 - 1.5 * IQR\n",
    "    upper = Q3 + 1.5 * IQR\n",
    "    return df[(df[column] >= lower) & (df[column] <= upper)]\n"
   ],
   "metadata": {
    "collapsed": false,
    "pycharm": {
     "name": "#%%\n"
    }
   }
  }
 ],
 "metadata": {
  "kernelspec": {
   "display_name": "Python 3",
   "language": "python",
   "name": "python3"
  },
  "language_info": {
   "codemirror_mode": {
    "name": "ipython",
    "version": 2
   },
   "file_extension": ".py",
   "mimetype": "text/x-python",
   "name": "python",
   "nbconvert_exporter": "python",
   "pygments_lexer": "ipython2",
   "version": "2.7.6"
  }
 },
 "nbformat": 4,
 "nbformat_minor": 0
}