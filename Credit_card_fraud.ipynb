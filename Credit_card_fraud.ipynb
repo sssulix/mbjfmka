{
 "cells": [
  {
   "cell_type": "code",
   "execution_count": 1,
   "outputs": [
    {
     "name": "stdout",
     "output_type": "stream",
     "text": [
      "Classification Report:\n",
      "              precision    recall  f1-score   support\n",
      "\n",
      "           0       0.99      0.28      0.43     18518\n",
      "           1       0.03      0.92      0.05       419\n",
      "\n",
      "    accuracy                           0.29     18937\n",
      "   macro avg       0.51      0.60      0.24     18937\n",
      "weighted avg       0.97      0.29      0.42     18937\n",
      "\n",
      "\n",
      "AUC-ROC Score: 0.7649155011662523\n",
      "[[ 5093 13425]\n",
      " [   35   384]]\n"
     ]
    }
   ],
   "source": [
    "import pandas as pd\n",
    "import numpy as np\n",
    "from sklearn.model_selection import train_test_split\n",
    "from sklearn.preprocessing import StandardScaler\n",
    "from sklearn.metrics import classification_report, roc_auc_score\n",
    "from xgboost import XGBClassifier\n",
    "from imblearn.over_sampling import SMOTE\n",
    "\n",
    "df = pd.read_csv('2.5_CC_FRAUD.csv')\n",
    "\n",
    "df['TRN_TYPE'] = df['TRN_TYPE'].apply(lambda x: 1 if x == 'FRAUD' else 0)\n",
    "\n",
    "\n",
    "df['DOMAIN_FREQ'] = df.groupby('DOMAIN')['DOMAIN'].transform('count')\n",
    "df['ZIPCODE_FREQ'] = df.groupby('ZIPCODE')['ZIPCODE'].transform('count')\n",
    "E\n",
    "df = pd.get_dummies(df, columns=['STATE'])\n",
    "\n",
    "for time_col in ['TIME1', 'TIME2']:\n",
    "    df[f'{time_col}_sin'] = np.sin(2 * np.pi * df[time_col]/24)\n",
    "    df[f'{time_col}_cos'] = np.cos(2 * np.pi * df[time_col]/24)\n",
    "df.drop(['TIME1', 'TIME2'], axis=1, inplace=True)\n",
    "\n",
    "df.drop(['DOMAIN', 'ZIPCODE'], axis=1, inplace=True)\n",
    "\n",
    "numerical_cols = ['VIS1', 'VIS2', 'XRN1', 'XRN2', 'XRN3', 'XRN4', 'XRN5',\n",
    "                  'VAR1', 'VAR2', 'VAR3', 'VAR4', 'VAR5', 'TRN_AMT',\n",
    "                  'TOTAL_TRN_AMT', 'DOMAIN_FREQ', 'ZIPCODE_FREQ',\n",
    "                  'TIME1_sin', 'TIME1_cos', 'TIME2_sin', 'TIME2_cos']\n",
    "\n",
    "scaler = StandardScaler()\n",
    "df[numerical_cols] = scaler.fit_transform(df[numerical_cols])\n",
    "\n",
    "\n",
    "X = df.drop('TRN_TYPE', axis=1)\n",
    "y = df['TRN_TYPE']\n",
    "\n",
    "\n",
    "X_train, X_test, y_train, y_test = train_test_split(\n",
    "    X, y, test_size=0.2, stratify=y, random_state=42, shuffle=True\n",
    ")\n",
    "\n",
    "smote = SMOTE(random_state=42)\n",
    "X_train_res, y_train_res = smote.fit_resample(X_train, y_train)\n",
    "\n",
    "model = XGBClassifier(\n",
    "    scale_pos_weight=len(y_train[y_train == 0]) / len(y_train[y_train == 1]),\n",
    "    learning_rate=0.1,\n",
    "    max_depth=5,\n",
    "    subsample=0.8,\n",
    "    colsample_bytree=0.8,\n",
    "    eval_metric='auc',\n",
    "    random_state=42\n",
    ")\n",
    "\n",
    "model.fit(X_train_res, y_train_res)\n",
    "\n",
    "y_pred = model.predict(X_test)\n",
    "y_proba = model.predict_proba(X_test)[:, 1]\n",
    "\n",
    "\n",
    "print(\"Classification Report:\")\n",
    "print(classification_report(y_test, y_pred))\n",
    "print(\"\\nAUC-ROC Score:\", roc_auc_score(y_test, y_proba))\n",
    "\n",
    "from sklearn.metrics import confusion_matrix\n",
    "\n",
    "print(confusion_matrix(y_test,y_pred))"
   ],
   "metadata": {
    "collapsed": false,
    "pycharm": {
     "name": "#%%\n"
    }
   }
  },
  {
   "cell_type": "code",
   "execution_count": null,
   "outputs": [],
   "source": [],
   "metadata": {
    "collapsed": false,
    "pycharm": {
     "name": "#%%\n"
    }
   }
  }
 ],
 "metadata": {
  "kernelspec": {
   "display_name": "Python 3",
   "language": "python",
   "name": "python3"
  },
  "language_info": {
   "codemirror_mode": {
    "name": "ipython",
    "version": 2
   },
   "file_extension": ".py",
   "mimetype": "text/x-python",
   "name": "python",
   "nbconvert_exporter": "python",
   "pygments_lexer": "ipython2",
   "version": "2.7.6"
  }
 },
 "nbformat": 4,
 "nbformat_minor": 0
}